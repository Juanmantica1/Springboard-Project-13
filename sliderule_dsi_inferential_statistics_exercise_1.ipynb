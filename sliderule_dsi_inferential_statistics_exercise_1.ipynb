{
 "cells": [
  {
   "cell_type": "markdown",
   "metadata": {},
   "source": [
    "# What is the True Normal Human Body Temperature? \n",
    "\n",
    "#### Background\n",
    "\n",
    "The mean normal body temperature was held to be 37$^{\\circ}$C or 98.6$^{\\circ}$F for more than 120 years since it was first conceptualized and reported by Carl Wunderlich in a famous 1868 book. But, is this value statistically correct?"
   ]
  },
  {
   "cell_type": "markdown",
   "metadata": {},
   "source": [
    "<div class=\"span5 alert alert-info\">\n",
    "<h3>Exercises</h3>\n",
    "\n",
    "<p>In this exercise, you will analyze a dataset of human body temperatures and employ the concepts of hypothesis testing, confidence intervals, and statistical significance.</p>\n",
    "\n",
    "<p>Answer the following questions <b>in this notebook below and submit to your Github account</b>.</p> \n",
    "\n",
    "<ol>\n",
    "<li>  Is the distribution of body temperatures normal? \n",
    "    <ul>\n",
    "    <li> Although this is not a requirement for CLT to hold (read CLT carefully), it gives us some peace of mind that the population may also be normally distributed if we assume that this sample is representative of the population.\n",
    "    </ul>\n",
    "<li>  Is the sample size large? Are the observations independent?\n",
    "    <ul>\n",
    "    <li> Remember that this is a condition for the CLT, and hence the statistical tests we are using, to apply.\n",
    "    </ul>\n",
    "<li>  Is the true population mean really 98.6 degrees F?\n",
    "    <ul>\n",
    "    <li> Would you use a one-sample or two-sample test? Why?\n",
    "    <li> In this situation, is it appropriate to use the $t$ or $z$ statistic? \n",
    "    <li> Now try using the other test. How is the result be different? Why?\n",
    "    </ul>\n",
    "<li>  At what temperature should we consider someone's temperature to be \"abnormal\"?\n",
    "    <ul>\n",
    "    <li> Start by computing the margin of error and confidence interval.\n",
    "    </ul>\n",
    "<li>  Is there a significant difference between males and females in normal temperature?\n",
    "    <ul>\n",
    "    <li> What test did you use and why?\n",
    "    <li> Write a story with your conclusion in the context of the original problem.\n",
    "    </ul>\n",
    "</ol>\n",
    "\n",
    "You can include written notes in notebook cells using Markdown: \n",
    "   - In the control panel at the top, choose Cell > Cell Type > Markdown\n",
    "   - Markdown syntax: http://nestacms.com/docs/creating-content/markdown-cheat-sheet\n",
    "\n",
    "#### Resources\n",
    "\n",
    "+ Information and data sources: http://www.amstat.org/publications/jse/datasets/normtemp.txt, http://www.amstat.org/publications/jse/jse_data_archive.htm\n",
    "+ Markdown syntax: http://nestacms.com/docs/creating-content/markdown-cheat-sheet\n",
    "\n",
    "****\n",
    "</div>"
   ]
  },
  {
   "cell_type": "code",
   "execution_count": 158,
   "metadata": {
    "collapsed": true
   },
   "outputs": [],
   "source": [
    "import pandas as pd\n",
    "import matplotlib.pyplot as plt\n",
    "%matplotlib inline\n",
    "import numpy as np\n",
    "\n",
    "df = pd.read_csv('data/human_body_temperature.csv')"
   ]
  },
  {
   "cell_type": "markdown",
   "metadata": {},
   "source": [
    "1 - Is the distibution of the Body Temperatures Normal?"
   ]
  },
  {
   "cell_type": "code",
   "execution_count": 97,
   "metadata": {},
   "outputs": [
    {
     "data": {
      "text/html": [
       "<div>\n",
       "<style>\n",
       "    .dataframe thead tr:only-child th {\n",
       "        text-align: right;\n",
       "    }\n",
       "\n",
       "    .dataframe thead th {\n",
       "        text-align: left;\n",
       "    }\n",
       "\n",
       "    .dataframe tbody tr th {\n",
       "        vertical-align: top;\n",
       "    }\n",
       "</style>\n",
       "<table border=\"1\" class=\"dataframe\">\n",
       "  <thead>\n",
       "    <tr style=\"text-align: right;\">\n",
       "      <th></th>\n",
       "      <th>temperature</th>\n",
       "      <th>gender</th>\n",
       "      <th>heart_rate</th>\n",
       "    </tr>\n",
       "  </thead>\n",
       "  <tbody>\n",
       "    <tr>\n",
       "      <th>0</th>\n",
       "      <td>99.3</td>\n",
       "      <td>F</td>\n",
       "      <td>68.0</td>\n",
       "    </tr>\n",
       "    <tr>\n",
       "      <th>1</th>\n",
       "      <td>98.4</td>\n",
       "      <td>F</td>\n",
       "      <td>81.0</td>\n",
       "    </tr>\n",
       "    <tr>\n",
       "      <th>2</th>\n",
       "      <td>97.8</td>\n",
       "      <td>M</td>\n",
       "      <td>73.0</td>\n",
       "    </tr>\n",
       "    <tr>\n",
       "      <th>3</th>\n",
       "      <td>99.2</td>\n",
       "      <td>F</td>\n",
       "      <td>66.0</td>\n",
       "    </tr>\n",
       "    <tr>\n",
       "      <th>4</th>\n",
       "      <td>98.0</td>\n",
       "      <td>F</td>\n",
       "      <td>73.0</td>\n",
       "    </tr>\n",
       "  </tbody>\n",
       "</table>\n",
       "</div>"
      ],
      "text/plain": [
       "   temperature gender  heart_rate\n",
       "0         99.3      F        68.0\n",
       "1         98.4      F        81.0\n",
       "2         97.8      M        73.0\n",
       "3         99.2      F        66.0\n",
       "4         98.0      F        73.0"
      ]
     },
     "execution_count": 97,
     "metadata": {},
     "output_type": "execute_result"
    }
   ],
   "source": [
    "df.head()"
   ]
  },
  {
   "cell_type": "code",
   "execution_count": 36,
   "metadata": {},
   "outputs": [
    {
     "data": {
      "text/plain": [
       "temperature    130\n",
       "gender         130\n",
       "heart_rate     130\n",
       "dtype: int64"
      ]
     },
     "execution_count": 36,
     "metadata": {},
     "output_type": "execute_result"
    }
   ],
   "source": [
    "df.count()# The dataframe is composed of 130 rows of three diferent on \n",
    "          #three different data types: temperature, gender and heart_rate"
   ]
  },
  {
   "cell_type": "code",
   "execution_count": 72,
   "metadata": {},
   "outputs": [
    {
     "data": {
      "text/plain": [
       "<matplotlib.axes._subplots.AxesSubplot at 0xb0f3358>"
      ]
     },
     "execution_count": 72,
     "metadata": {},
     "output_type": "execute_result"
    },
    {
     "data": {
      "image/png": "[encoded data removed]",
      "text/plain": [
       "<matplotlib.figure.Figure at 0xb0c1128>"
      ]
     },
     "metadata": {},
     "output_type": "display_data"
    }
   ],
   "source": [
    "t=df['temperature']\n",
    "t.hist() "
   ]
  },
  {
   "cell_type": "code",
   "execution_count": 94,
   "metadata": {},
   "outputs": [],
   "source": [
    "# The histogram does not look nicely,but rather than focusing on it\n",
    "# I will see if the data is normalized by following the 66-96-99 rule\n",
    "sd=t.std()  \n",
    "m=t.mean()"
   ]
  },
  {
   "cell_type": "code",
   "execution_count": 95,
   "metadata": {},
   "outputs": [
    {
     "data": {
      "text/plain": [
       "(0.69230769230769229, 0.94615384615384612, 0.99230769230769234)"
      ]
     },
     "execution_count": 95,
     "metadata": {},
     "output_type": "execute_result"
    }
   ],
   "source": [
    "#One standard deviation\n",
    "sd1=t[t>=m-sd]\n",
    "sd1=sd1[t<=m+sd].count()\n",
    "sd1=sd1*1.0/t.count()\n",
    "#Two standard deviation\n",
    "sd2=t[t>=m-2*sd]\n",
    "sd2=sd2[t<=m+2*sd].count()\n",
    "sd2=sd2*1.0/t.count()\n",
    "#Three standard deviation\n",
    "sd3=t[t>=m-3*sd]\n",
    "sd3=sd3[t<=m+3*sd].count()\n",
    "sd3=sd3*1.0/t.count()\n",
    "#Distributions\n",
    "sd1,sd2,sd3\n",
    "#The data is very close to being normalized, we will therefore treat as if it was"
   ]
  },
  {
   "cell_type": "markdown",
   "metadata": {},
   "source": [
    "2 - Is the sample size large? Are the observations independent?"
   ]
  },
  {
   "cell_type": "markdown",
   "metadata": {},
   "source": [
    "The sample size is indeed large, as we saw before the count of its data types is 130, therefore; we will only focus on the second part of the question: are the observations independent?"
   ]
  },
  {
   "cell_type": "code",
   "execution_count": 107,
   "metadata": {},
   "outputs": [
    {
     "data": {
      "text/plain": [
       "(0.25365640272076417, -0.19800622214525374, -0.055766220605377032)"
      ]
     },
     "execution_count": 107,
     "metadata": {},
     "output_type": "execute_result"
    }
   ],
   "source": [
    "t=df['temperature']\n",
    "h=df['heart_rate']\n",
    "g=df['gender']\n",
    "th_corr=t.corr(h,method='pearson') #correlation for temperature and gender \n",
    "g_int=g.replace('M',1)#In order to use the corr method for gender I must replace it values for 1s(male) and 0s(female)\n",
    "g_int=g_int.replace(\"F\",0)\n",
    "tg_corr=t.corr(g_int,method='pearson')\n",
    "hg_corr=g_int.corr(h,method='pearson')\n",
    "th_corr, tg_corr, hg_corr"
   ]
  },
  {
   "cell_type": "markdown",
   "metadata": {},
   "source": [
    "To answer quesiton 2: There is some correlation between the variables, which might impact the results of our test"
   ]
  },
  {
   "cell_type": "markdown",
   "metadata": {},
   "source": [
    "3 - Is the true population mean really 98.6 degrees F?\n",
    "    Would you use a one-sample or two-sample test? Why?\n",
    "    In this situation, is it appropriate to use the  tt  or  zz  statistic?\n",
    "    Now try using the other test. How is the result be different? Why?"
   ]
  },
  {
   "cell_type": "markdown",
   "metadata": {},
   "source": [
    "A z-statistic would be the best apporach due the large quantity of data (130) and also beacuase we are testing the sample data against a predetermined point, and a one sample test will be better due to the fact that each data set is not independent."
   ]
  },
  {
   "cell_type": "code",
   "execution_count": 119,
   "metadata": {},
   "outputs": [
    {
     "data": {
      "text/plain": [
       "(0.06430441683789101, 98.24923076923078)"
      ]
     },
     "execution_count": 119,
     "metadata": {},
     "output_type": "execute_result"
    }
   ],
   "source": [
    "#The null hypothesis is that the temperature is in fact 98.6\n",
    "#The alternative hypothesis is that temperature is not 98.6 \n",
    "# To test the hypothesis we first we get our aproximated standard deviation and our mean\n",
    "asd=sd/130**(1/2.0) # We divide the sd by the sqrt of our sample\n",
    "asd,m #We have the mean and the standard deviation\n",
    "\n"
   ]
  },
  {
   "cell_type": "code",
   "execution_count": 122,
   "metadata": {},
   "outputs": [
    {
     "data": {
      "text/plain": [
       "5.454823292364079"
      ]
     },
     "execution_count": 122,
     "metadata": {},
     "output_type": "execute_result"
    }
   ],
   "source": [
    "#We want to see how many standards deviations is the 98.6 away from the mean\n",
    "z_score=(98.6-m)/asd\n",
    "z_score"
   ]
  },
  {
   "cell_type": "code",
   "execution_count": 135,
   "metadata": {},
   "outputs": [
    {
     "data": {
      "text/plain": [
       "2.4510785068265761e-08"
      ]
     },
     "execution_count": 135,
     "metadata": {},
     "output_type": "execute_result"
    }
   ],
   "source": [
    "#We want to caluclate the probability of the z-score\n",
    "import scipy.stats as st\n",
    "1-st.norm.cdf(z_score)\n",
    "#The probability is way below our threshold(5%), we therefore, reject the null hypothesis"
   ]
  },
  {
   "cell_type": "code",
   "execution_count": 141,
   "metadata": {},
   "outputs": [
    {
     "data": {
      "text/plain": [
       "1.2053160214353653e-07"
      ]
     },
     "execution_count": 141,
     "metadata": {},
     "output_type": "execute_result"
    }
   ],
   "source": [
    "#Now using the t stat, with 129(130-1) degrees of freedom\n",
    "1-st.t.cdf(z_score, 129) # The result is one order of magnitude bigger than that of the one obtained using the z-statistic\n",
    "#because t-stats are designed to compensate for the lack of data in small samples, but lack accuracy in larger samples"
   ]
  },
  {
   "cell_type": "code",
   "execution_count": null,
   "metadata": {
    "collapsed": true
   },
   "outputs": [],
   "source": []
  },
  {
   "cell_type": "markdown",
   "metadata": {},
   "source": [
    "4--At what temperature should we consider someone's temperature to be \"abnormal\"?\n",
    "Start by computing the margin of error and confidence interval."
   ]
  },
  {
   "cell_type": "code",
   "execution_count": 145,
   "metadata": {},
   "outputs": [
    {
     "data": {
      "text/plain": [
       "(98.143459415965978, 98.355002122495577)"
      ]
     },
     "execution_count": 145,
     "metadata": {},
     "output_type": "execute_result"
    }
   ],
   "source": [
    "thresh=st.norm.ppf(1-.05)# Using the standard threshold of 5% as considering a data to be abnormal\n",
    "thresh1=-thresh*asd+m    # we compute a 95% confidence interval between these two thresholds \n",
    "thresh2=thresh*asd+m\n",
    "thresh1, thresh2"
   ]
  },
  {
   "cell_type": "markdown",
   "metadata": {},
   "source": [
    "5--Is there a significant difference between males and females in normal temperature?\n",
    "What test did you use and why?\n",
    "Write a story with your conclusion in the context of the original problem"
   ]
  },
  {
   "cell_type": "code",
   "execution_count": 212,
   "metadata": {},
   "outputs": [
    {
     "data": {
      "text/plain": [
       "(2      97.8\n",
       " 5      99.2\n",
       " 6      98.0\n",
       " 7      98.8\n",
       " 12     98.2\n",
       " 17     98.2\n",
       " 19     99.4\n",
       " 21     98.2\n",
       " 22     98.6\n",
       " 23     98.4\n",
       " 24     97.8\n",
       " 29     98.1\n",
       " 30     98.3\n",
       " 32     98.5\n",
       " 33     98.6\n",
       " 34     99.3\n",
       " 35     99.5\n",
       " 36     99.1\n",
       " 37     98.3\n",
       " 41     98.4\n",
       " 42     96.9\n",
       " 43     97.2\n",
       " 46     97.4\n",
       " 47     97.4\n",
       " 48     97.9\n",
       " 49     97.1\n",
       " 53     98.6\n",
       " 57     98.2\n",
       " 59     97.6\n",
       " 61     98.4\n",
       "        ... \n",
       " 73     98.8\n",
       " 74     99.0\n",
       " 75     98.8\n",
       " 77     98.4\n",
       " 78     97.4\n",
       " 79     97.6\n",
       " 81     98.0\n",
       " 82     97.5\n",
       " 85     97.1\n",
       " 87     98.0\n",
       " 88     98.7\n",
       " 89     98.1\n",
       " 90     97.8\n",
       " 93     97.1\n",
       " 94     97.8\n",
       " 99     98.0\n",
       " 100    99.0\n",
       " 101    98.5\n",
       " 104    97.6\n",
       " 105    96.7\n",
       " 106    97.0\n",
       " 107    98.6\n",
       " 109    97.3\n",
       " 114    99.0\n",
       " 115    98.0\n",
       " 118    98.7\n",
       " 124    97.5\n",
       " 125    96.3\n",
       " 126    97.7\n",
       " 128    97.9\n",
       " Name: temperature, Length: 65, dtype: float64, 0       99.3\n",
       " 1       98.4\n",
       " 3       99.2\n",
       " 4       98.0\n",
       " 8       98.4\n",
       " 9       98.6\n",
       " 10      98.8\n",
       " 11      96.7\n",
       " 13      98.7\n",
       " 14      97.8\n",
       " 15      98.8\n",
       " 16      98.3\n",
       " 18      97.2\n",
       " 20      98.3\n",
       " 25      98.0\n",
       " 26      97.8\n",
       " 27      98.2\n",
       " 28      98.4\n",
       " 31      97.6\n",
       " 38      97.9\n",
       " 39      96.4\n",
       " 40      98.4\n",
       " 44      99.0\n",
       " 45      97.9\n",
       " 50      98.9\n",
       " 51      98.3\n",
       " 52      98.5\n",
       " 54      98.2\n",
       " 55      98.6\n",
       " 56      98.8\n",
       "        ...  \n",
       " 68      98.7\n",
       " 70      98.1\n",
       " 71      97.7\n",
       " 76      98.0\n",
       " 80      98.8\n",
       " 83      99.2\n",
       " 84      98.6\n",
       " 86      98.6\n",
       " 91     100.0\n",
       " 92      98.8\n",
       " 95      96.8\n",
       " 96      99.9\n",
       " 97      98.7\n",
       " 98      98.8\n",
       " 102     98.0\n",
       " 103     99.4\n",
       " 108     98.7\n",
       " 110     98.8\n",
       " 111     98.0\n",
       " 112     98.2\n",
       " 113     99.1\n",
       " 116    100.8\n",
       " 117     97.8\n",
       " 119     98.4\n",
       " 120     97.7\n",
       " 121     97.9\n",
       " 122     99.0\n",
       " 123     97.2\n",
       " 127     98.2\n",
       " 129     98.7\n",
       " Name: temperature, Length: 65, dtype: float64)"
      ]
     },
     "execution_count": 212,
     "metadata": {},
     "output_type": "execute_result"
    }
   ],
   "source": [
    "man=df[df.gender=='M']\n",
    "man=man['temperature']\n",
    "women=df[df.gender=='F']\n",
    "women=women['temperature']\n",
    "man,women"
   ]
  },
  {
   "cell_type": "code",
   "execution_count": 214,
   "metadata": {},
   "outputs": [
    {
     "data": {
      "text/plain": [
       "Ttest_indResult(statistic=-2.2854345381656103, pvalue=0.023931883122395609)"
      ]
     },
     "execution_count": 214,
     "metadata": {},
     "output_type": "execute_result"
    }
   ],
   "source": [
    "st.ttest_ind(man,women)"
   ]
  },
  {
   "cell_type": "markdown",
   "metadata": {},
   "source": [
    "I did a two tailed t-test between the temperatures of men and women due to the small number of samples for each of the categories and also due to the easiness in which python can compute t-test.\n",
    "The pvalue forces us to reject the null hypothesis for the alternative and state that we are 98% confident that there is a difference between the temperature of men and women"
   ]
  },
  {
   "cell_type": "code",
   "execution_count": null,
   "metadata": {
    "collapsed": true
   },
   "outputs": [],
   "source": []
  }
 ],
 "metadata": {
  "kernelspec": {
   "display_name": "Python 2",
   "language": "python",
   "name": "python2"
  },
  "language_info": {
   "codemirror_mode": {
    "name": "ipython",
    "version": 2
   },
   "file_extension": ".py",
   "mimetype": "text/x-python",
   "name": "python",
   "nbconvert_exporter": "python",
   "pygments_lexer": "ipython2",
   "version": "2.7.13"
  }
 },
 "nbformat": 4,
 "nbformat_minor": 1
}
